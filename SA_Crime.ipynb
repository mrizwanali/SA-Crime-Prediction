{
 "cells": [
  {
   "cell_type": "code",
   "execution_count": 19,
   "id": "928f901d",
   "metadata": {},
   "outputs": [],
   "source": [
    "import numpy as np\n",
    "import pandas as pd\n",
    "import tensorflow as tf\n",
    "import matplotlib.pyplot as plt\n",
    "from matplotlib import image as im\n",
    "#from matplotlib.image import imread\n",
    "from os import listdir\n",
    "from tensorflow.keras.preprocessing.image import load_img\n",
    "from tensorflow.keras.preprocessing.image import img_to_array\n",
    "from tensorflow.keras import layers, models\n",
    "from tensorflow.keras.callbacks import ReduceLROnPlateau"
   ]
  },
  {
   "cell_type": "code",
   "execution_count": 2,
   "id": "6a05a9a3",
   "metadata": {},
   "outputs": [],
   "source": [
    "def label_img(pic):\n",
    "    if pic.startswith(\"non\"): return [0, 1]\n",
    "    else : return [1, 0]"
   ]
  },
  {
   "cell_type": "code",
   "execution_count": 3,
   "id": "3e9b3c14",
   "metadata": {},
   "outputs": [
    {
     "name": "stderr",
     "output_type": "stream",
     "text": [
      "C:\\ProgramData\\Anaconda3\\lib\\site-packages\\numpy\\core\\_asarray.py:171: VisibleDeprecationWarning: Creating an ndarray from ragged nested sequences (which is a list-or-tuple of lists-or-tuples-or ndarrays with different lengths or shapes) is deprecated. If you meant to do this, you must specify 'dtype=object' when creating the ndarray.\n",
      "  return array(a, dtype, copy=False, order=order, subok=True)\n"
     ]
    }
   ],
   "source": [
    "data_folder = r\"D:\\AI_ML_DL\\Omdena_Projects\\SA\\Mahrukh\\CompleteData\" + \"/\"\n",
    "photos, labels = list(), list()\n",
    "\n",
    "folder = listdir(data_folder)\n",
    "\n",
    "for eachpic in folder: \n",
    "    label = label_img(eachpic)\n",
    "    file = data_folder + eachpic\n",
    "    image = load_img(file)\n",
    "    image = img_to_array(image) / 255\n",
    "    photos.append([image, label])\n",
    "    \n",
    "\n",
    "from random import shuffle\n",
    "\n",
    "# shuffling of the training data to preserve the random state of our data\n",
    "shuffle(photos)\n",
    "\n",
    "# saving our trained data for further uses if required\n",
    "np.save('photos.npy', photos)"
   ]
  },
  {
   "cell_type": "code",
   "execution_count": 4,
   "id": "e608f775",
   "metadata": {},
   "outputs": [
    {
     "name": "stdout",
     "output_type": "stream",
     "text": [
      "2271\n",
      "600\n"
     ]
    }
   ],
   "source": [
    "train = photos[:2271]\n",
    "test = photos[2271:]\n",
    "print(len(train))\n",
    "print(len(test))"
   ]
  },
  {
   "cell_type": "code",
   "execution_count": 5,
   "id": "a339ad05",
   "metadata": {},
   "outputs": [
    {
     "name": "stdout",
     "output_type": "stream",
     "text": [
      "(2271, 128, 128, 3) \n",
      " (2271, 2) \n",
      " (600, 128, 128, 3) \n",
      " (600, 2)\n"
     ]
    }
   ],
   "source": [
    "train_data = np.array([i[0] for i in train])\n",
    "#x_train = np.array([i[0] for i in train]).reshape(-1, 64, 64, 1)\n",
    "train_label = np.array([i[1] for i in train])\n",
    "#x_test = np.array([i[0] for i in test]).reshape(-1, 64, 64, 1)\n",
    "test_data = np.array([i[0] for i in test])\n",
    "test_label = np.array([i[1] for i in test])\n",
    "print(train_data.shape,  \"\\n\",train_label.shape, \"\\n\",test_data.shape, \"\\n\",test_label.shape)"
   ]
  },
  {
   "cell_type": "code",
   "execution_count": 6,
   "id": "7a6cfaee",
   "metadata": {},
   "outputs": [],
   "source": [
    "from tensorflow.keras.models import Sequential\n",
    "from tensorflow.keras.layers import Dense, Activation, Flatten, Conv2D, MaxPooling2D, Dropout\n",
    "from sklearn.model_selection import train_test_split \n",
    "\n",
    "train_x, val_x, train_y, val_y = train_test_split(train_data, train_label, test_size = 0.2)\n",
    "batch_size = 32\n",
    "num_classes = 2\n",
    "epochs = 30"
   ]
  },
  {
   "cell_type": "code",
   "execution_count": 18,
   "id": "1073e9a8",
   "metadata": {},
   "outputs": [],
   "source": [
    "#del model\n",
    "from tensorflow.keras import regularizers\n"
   ]
  },
  {
   "cell_type": "code",
   "execution_count": 7,
   "id": "de5c6b07",
   "metadata": {},
   "outputs": [
    {
     "name": "stdout",
     "output_type": "stream",
     "text": [
      "Model: \"sequential\"\n",
      "_________________________________________________________________\n",
      " Layer (type)                Output Shape              Param #   \n",
      "=================================================================\n",
      " conv2d (Conv2D)             (None, 128, 128, 128)     3584      \n",
      "                                                                 \n",
      " activation (Activation)     (None, 128, 128, 128)     0         \n",
      "                                                                 \n",
      " conv2d_1 (Conv2D)           (None, 126, 126, 64)      73792     \n",
      "                                                                 \n",
      " activation_1 (Activation)   (None, 126, 126, 64)      0         \n",
      "                                                                 \n",
      " max_pooling2d (MaxPooling2D  (None, 63, 63, 64)       0         \n",
      " )                                                               \n",
      "                                                                 \n",
      " dropout (Dropout)           (None, 63, 63, 64)        0         \n",
      "                                                                 \n",
      " conv2d_2 (Conv2D)           (None, 61, 61, 32)        18464     \n",
      "                                                                 \n",
      " activation_2 (Activation)   (None, 61, 61, 32)        0         \n",
      "                                                                 \n",
      " max_pooling2d_1 (MaxPooling  (None, 30, 30, 32)       0         \n",
      " 2D)                                                             \n",
      "                                                                 \n",
      " dropout_1 (Dropout)         (None, 30, 30, 32)        0         \n",
      "                                                                 \n",
      " conv2d_3 (Conv2D)           (None, 28, 28, 16)        4624      \n",
      "                                                                 \n",
      " activation_3 (Activation)   (None, 28, 28, 16)        0         \n",
      "                                                                 \n",
      " max_pooling2d_2 (MaxPooling  (None, 14, 14, 16)       0         \n",
      " 2D)                                                             \n",
      "                                                                 \n",
      " dropout_2 (Dropout)         (None, 14, 14, 16)        0         \n",
      "                                                                 \n",
      " conv2d_4 (Conv2D)           (None, 12, 12, 8)         1160      \n",
      "                                                                 \n",
      " activation_4 (Activation)   (None, 12, 12, 8)         0         \n",
      "                                                                 \n",
      " flatten (Flatten)           (None, 1152)              0         \n",
      "                                                                 \n",
      " dense (Dense)               (None, 2)                 2306      \n",
      "                                                                 \n",
      " activation_5 (Activation)   (None, 2)                 0         \n",
      "                                                                 \n",
      "=================================================================\n",
      "Total params: 103,930\n",
      "Trainable params: 103,930\n",
      "Non-trainable params: 0\n",
      "_________________________________________________________________\n"
     ]
    }
   ],
   "source": [
    "model = Sequential()\n",
    "model.add(Conv2D(128, (3, 3), padding='same', input_shape=train_data.shape[1:]))\n",
    "model.add(Activation('relu'))\n",
    "model.add(Conv2D(64, (3, 3)))\n",
    "model.add(Activation('relu'))\n",
    "model.add(MaxPooling2D(pool_size=(2, 2)))\n",
    "model.add(Dropout(0.25))\n",
    "model.add(Conv2D(32, (3, 3)))\n",
    "model.add(Activation('relu'))\n",
    "model.add(MaxPooling2D(pool_size=(2, 2)))\n",
    "model.add(Dropout(0.25))\n",
    "model.add(Conv2D(16, (3, 3)))\n",
    "model.add(Activation('relu'))\n",
    "model.add(MaxPooling2D(pool_size=(2, 2)))\n",
    "model.add(Dropout(0.25))\n",
    "model.add(Conv2D(8, (3, 3)))\n",
    "model.add(Activation('relu'))\n",
    "model.add(Flatten())\n",
    "model.add(Dense(num_classes))\n",
    "model.add(Activation(\"sigmoid\"))\n",
    "model.summary()"
   ]
  },
  {
   "cell_type": "code",
   "execution_count": 10,
   "id": "0797f0fc",
   "metadata": {},
   "outputs": [],
   "source": [
    "reduce_lr = ReduceLROnPlateau(monitor='val_loss', factor=0.2, mode=\"auto\",\n",
    "                              patience=5, min_lr=0.001)"
   ]
  },
  {
   "cell_type": "code",
   "execution_count": 11,
   "id": "5cd915ec",
   "metadata": {},
   "outputs": [],
   "source": [
    "# Training the Model\n",
    "model.compile(loss = 'binary_crossentropy', optimizer = \"adam\", metrics = [\"accuracy\"])"
   ]
  },
  {
   "cell_type": "code",
   "execution_count": 12,
   "id": "ea9a2e78",
   "metadata": {},
   "outputs": [
    {
     "name": "stdout",
     "output_type": "stream",
     "text": [
      "Epoch 1/30\n",
      "57/57 [==============================] - 205s 4s/step - loss: 0.6892 - accuracy: 0.5655 - val_loss: 0.6905 - val_accuracy: 0.5407 - lr: 0.0010\n",
      "Epoch 2/30\n",
      "57/57 [==============================] - 179s 3s/step - loss: 0.6888 - accuracy: 0.5710 - val_loss: 0.6902 - val_accuracy: 0.5407 - lr: 0.0010\n",
      "Epoch 3/30\n",
      "57/57 [==============================] - 173s 3s/step - loss: 0.6847 - accuracy: 0.5710 - val_loss: 0.6900 - val_accuracy: 0.5407 - lr: 0.0010\n",
      "Epoch 4/30\n",
      "57/57 [==============================] - 176s 3s/step - loss: 0.6852 - accuracy: 0.5710 - val_loss: 0.6907 - val_accuracy: 0.5407 - lr: 0.0010\n",
      "Epoch 5/30\n",
      "57/57 [==============================] - 168s 3s/step - loss: 0.6835 - accuracy: 0.5710 - val_loss: 0.6909 - val_accuracy: 0.5407 - lr: 0.0010\n",
      "Epoch 6/30\n",
      "57/57 [==============================] - 172s 3s/step - loss: 0.6836 - accuracy: 0.5710 - val_loss: 0.6902 - val_accuracy: 0.5407 - lr: 0.0010\n",
      "Epoch 7/30\n",
      "57/57 [==============================] - 185s 3s/step - loss: 0.6852 - accuracy: 0.5710 - val_loss: 0.6921 - val_accuracy: 0.5407 - lr: 0.0010\n",
      "Epoch 8/30\n",
      "57/57 [==============================] - 178s 3s/step - loss: 0.6833 - accuracy: 0.5710 - val_loss: 0.6915 - val_accuracy: 0.5407 - lr: 0.0010\n",
      "Epoch 9/30\n",
      "57/57 [==============================] - 161s 3s/step - loss: 0.6838 - accuracy: 0.5705 - val_loss: 0.6896 - val_accuracy: 0.5407 - lr: 0.0010\n",
      "Epoch 10/30\n",
      "57/57 [==============================] - 165s 3s/step - loss: 0.6816 - accuracy: 0.5732 - val_loss: 0.6913 - val_accuracy: 0.5407 - lr: 0.0010\n",
      "Epoch 11/30\n",
      "57/57 [==============================] - 188s 3s/step - loss: 0.6798 - accuracy: 0.5694 - val_loss: 0.6891 - val_accuracy: 0.5429 - lr: 0.0010\n",
      "Epoch 12/30\n",
      "57/57 [==============================] - 170s 3s/step - loss: 0.6758 - accuracy: 0.5809 - val_loss: 0.6949 - val_accuracy: 0.5429 - lr: 0.0010\n",
      "Epoch 13/30\n",
      "57/57 [==============================] - 174s 3s/step - loss: 0.6759 - accuracy: 0.5837 - val_loss: 0.6920 - val_accuracy: 0.5495 - lr: 0.0010\n",
      "Epoch 14/30\n",
      "57/57 [==============================] - 177s 3s/step - loss: 0.6693 - accuracy: 0.5870 - val_loss: 0.6944 - val_accuracy: 0.5538 - lr: 0.0010\n",
      "Epoch 15/30\n",
      "57/57 [==============================] - 178s 3s/step - loss: 0.6695 - accuracy: 0.5865 - val_loss: 0.6895 - val_accuracy: 0.5473 - lr: 0.0010\n",
      "Epoch 16/30\n",
      "57/57 [==============================] - 191s 3s/step - loss: 0.6609 - accuracy: 0.6112 - val_loss: 0.6872 - val_accuracy: 0.5714 - lr: 0.0010\n",
      "Epoch 17/30\n",
      "57/57 [==============================] - 169s 3s/step - loss: 0.6634 - accuracy: 0.6046 - val_loss: 0.7111 - val_accuracy: 0.5407 - lr: 0.0010\n",
      "Epoch 18/30\n",
      "57/57 [==============================] - 170s 3s/step - loss: 0.6593 - accuracy: 0.5925 - val_loss: 0.6987 - val_accuracy: 0.5560 - lr: 0.0010\n",
      "Epoch 19/30\n",
      "57/57 [==============================] - 159s 3s/step - loss: 0.6571 - accuracy: 0.6079 - val_loss: 0.7595 - val_accuracy: 0.5319 - lr: 0.0010\n",
      "Epoch 20/30\n",
      "57/57 [==============================] - 172s 3s/step - loss: 0.6566 - accuracy: 0.6129 - val_loss: 0.6948 - val_accuracy: 0.5714 - lr: 0.0010\n",
      "Epoch 21/30\n",
      "57/57 [==============================] - 187s 3s/step - loss: 0.6502 - accuracy: 0.6173 - val_loss: 0.6954 - val_accuracy: 0.5626 - lr: 0.0010\n",
      "Epoch 22/30\n",
      "57/57 [==============================] - 176s 3s/step - loss: 0.6420 - accuracy: 0.6239 - val_loss: 0.7166 - val_accuracy: 0.5495 - lr: 0.0010\n",
      "Epoch 23/30\n",
      "57/57 [==============================] - 160s 3s/step - loss: 0.6390 - accuracy: 0.6289 - val_loss: 0.7135 - val_accuracy: 0.5363 - lr: 0.0010\n",
      "Epoch 24/30\n",
      "57/57 [==============================] - 181s 3s/step - loss: 0.6331 - accuracy: 0.6503 - val_loss: 0.7248 - val_accuracy: 0.5495 - lr: 0.0010\n",
      "Epoch 25/30\n",
      "57/57 [==============================] - 1309s 23s/step - loss: 0.6261 - accuracy: 0.6520 - val_loss: 0.7244 - val_accuracy: 0.5516 - lr: 0.0010\n",
      "Epoch 26/30\n",
      "57/57 [==============================] - 182s 3s/step - loss: 0.6237 - accuracy: 0.6580 - val_loss: 0.7018 - val_accuracy: 0.5319 - lr: 0.0010\n",
      "Epoch 27/30\n",
      "57/57 [==============================] - 204s 4s/step - loss: 0.6163 - accuracy: 0.6487 - val_loss: 0.7174 - val_accuracy: 0.5231 - lr: 0.0010\n",
      "Epoch 28/30\n",
      "57/57 [==============================] - 153s 3s/step - loss: 0.5939 - accuracy: 0.6735 - val_loss: 0.7223 - val_accuracy: 0.5297 - lr: 0.0010\n",
      "Epoch 29/30\n",
      "57/57 [==============================] - 147s 3s/step - loss: 0.5924 - accuracy: 0.6861 - val_loss: 0.7372 - val_accuracy: 0.5275 - lr: 0.0010\n",
      "Epoch 30/30\n",
      "57/57 [==============================] - 147s 3s/step - loss: 0.5848 - accuracy: 0.6850 - val_loss: 0.7297 - val_accuracy: 0.5626 - lr: 0.0010\n"
     ]
    }
   ],
   "source": [
    "history = model.fit(train_x, train_y, batch_size = batch_size, epochs = epochs, verbose = 1, callbacks=[reduce_lr],\n",
    "                    validation_data = (val_x, val_y))"
   ]
  },
  {
   "cell_type": "code",
   "execution_count": 13,
   "id": "e501d3f3",
   "metadata": {},
   "outputs": [
    {
     "data": {
      "text/html": [
       "<div><div id=46367d62-984b-45b6-85f1-c4f79f55f154 style=\"display:none; background-color:#9D6CFF; color:white; width:200px; height:30px; padding-left:5px; border-radius:4px; flex-direction:row; justify-content:space-around; align-items:center;\" onmouseover=\"this.style.backgroundColor='#BA9BF8'\" onmouseout=\"this.style.backgroundColor='#9D6CFF'\" onclick=\"window.commands?.execute('create-mitosheet-from-dataframe-output');\">See Full Dataframe in Mito</div> <script> if (window.commands?.hasCommand('create-mitosheet-from-dataframe-output')) document.getElementById('46367d62-984b-45b6-85f1-c4f79f55f154').style.display = 'flex' </script> <table border=\"1\" class=\"dataframe\">\n",
       "  <thead>\n",
       "    <tr style=\"text-align: right;\">\n",
       "      <th></th>\n",
       "      <th>loss</th>\n",
       "      <th>accuracy</th>\n",
       "      <th>val_loss</th>\n",
       "      <th>val_accuracy</th>\n",
       "      <th>lr</th>\n",
       "    </tr>\n",
       "  </thead>\n",
       "  <tbody>\n",
       "    <tr>\n",
       "      <th>0</th>\n",
       "      <td>0.689218</td>\n",
       "      <td>0.565529</td>\n",
       "      <td>0.690481</td>\n",
       "      <td>0.540659</td>\n",
       "      <td>0.001</td>\n",
       "    </tr>\n",
       "    <tr>\n",
       "      <th>1</th>\n",
       "      <td>0.688850</td>\n",
       "      <td>0.571035</td>\n",
       "      <td>0.690171</td>\n",
       "      <td>0.540659</td>\n",
       "      <td>0.001</td>\n",
       "    </tr>\n",
       "    <tr>\n",
       "      <th>2</th>\n",
       "      <td>0.684715</td>\n",
       "      <td>0.571035</td>\n",
       "      <td>0.690008</td>\n",
       "      <td>0.540659</td>\n",
       "      <td>0.001</td>\n",
       "    </tr>\n",
       "    <tr>\n",
       "      <th>3</th>\n",
       "      <td>0.685237</td>\n",
       "      <td>0.571035</td>\n",
       "      <td>0.690661</td>\n",
       "      <td>0.540659</td>\n",
       "      <td>0.001</td>\n",
       "    </tr>\n",
       "    <tr>\n",
       "      <th>4</th>\n",
       "      <td>0.683547</td>\n",
       "      <td>0.571035</td>\n",
       "      <td>0.690874</td>\n",
       "      <td>0.540659</td>\n",
       "      <td>0.001</td>\n",
       "    </tr>\n",
       "    <tr>\n",
       "      <th>...</th>\n",
       "      <td>...</td>\n",
       "      <td>...</td>\n",
       "      <td>...</td>\n",
       "      <td>...</td>\n",
       "      <td>...</td>\n",
       "    </tr>\n",
       "    <tr>\n",
       "      <th>25</th>\n",
       "      <td>0.623668</td>\n",
       "      <td>0.658040</td>\n",
       "      <td>0.701825</td>\n",
       "      <td>0.531868</td>\n",
       "      <td>0.001</td>\n",
       "    </tr>\n",
       "    <tr>\n",
       "      <th>26</th>\n",
       "      <td>0.616292</td>\n",
       "      <td>0.648678</td>\n",
       "      <td>0.717406</td>\n",
       "      <td>0.523077</td>\n",
       "      <td>0.001</td>\n",
       "    </tr>\n",
       "    <tr>\n",
       "      <th>27</th>\n",
       "      <td>0.593876</td>\n",
       "      <td>0.673458</td>\n",
       "      <td>0.722315</td>\n",
       "      <td>0.529670</td>\n",
       "      <td>0.001</td>\n",
       "    </tr>\n",
       "    <tr>\n",
       "      <th>28</th>\n",
       "      <td>0.592359</td>\n",
       "      <td>0.686123</td>\n",
       "      <td>0.737249</td>\n",
       "      <td>0.527473</td>\n",
       "      <td>0.001</td>\n",
       "    </tr>\n",
       "    <tr>\n",
       "      <th>29</th>\n",
       "      <td>0.584804</td>\n",
       "      <td>0.685022</td>\n",
       "      <td>0.729652</td>\n",
       "      <td>0.562637</td>\n",
       "      <td>0.001</td>\n",
       "    </tr>\n",
       "  </tbody>\n",
       "</table></div>"
      ],
      "text/plain": [
       "        loss  accuracy  val_loss  val_accuracy     lr\n",
       "0   0.689218  0.565529  0.690481      0.540659  0.001\n",
       "1   0.688850  0.571035  0.690171      0.540659  0.001\n",
       "2   0.684715  0.571035  0.690008      0.540659  0.001\n",
       "3   0.685237  0.571035  0.690661      0.540659  0.001\n",
       "4   0.683547  0.571035  0.690874      0.540659  0.001\n",
       "5   0.683650  0.571035  0.690238      0.540659  0.001\n",
       "6   0.685201  0.571035  0.692122      0.540659  0.001\n",
       "7   0.683253  0.571035  0.691531      0.540659  0.001\n",
       "8   0.683850  0.570485  0.689618      0.540659  0.001\n",
       "9   0.681551  0.573238  0.691284      0.540659  0.001\n",
       "10  0.679815  0.569383  0.689085      0.542857  0.001\n",
       "11  0.675768  0.580947  0.694885      0.542857  0.001\n",
       "12  0.675865  0.583700  0.692017      0.549451  0.001\n",
       "13  0.669292  0.587004  0.694438      0.553846  0.001\n",
       "14  0.669527  0.586454  0.689548      0.547253  0.001\n",
       "15  0.660934  0.611233  0.687243      0.571429  0.001\n",
       "16  0.663357  0.604626  0.711135      0.540659  0.001\n",
       "17  0.659261  0.592511  0.698741      0.556044  0.001\n",
       "18  0.657131  0.607930  0.759496      0.531868  0.001\n",
       "19  0.656621  0.612885  0.694809      0.571429  0.001\n",
       "20  0.650235  0.617291  0.695392      0.562637  0.001\n",
       "21  0.642017  0.623899  0.716634      0.549451  0.001\n",
       "22  0.639004  0.628855  0.713471      0.536264  0.001\n",
       "23  0.633071  0.650330  0.724787      0.549451  0.001\n",
       "24  0.626080  0.651982  0.724390      0.551648  0.001\n",
       "25  0.623668  0.658040  0.701825      0.531868  0.001\n",
       "26  0.616292  0.648678  0.717406      0.523077  0.001\n",
       "27  0.593876  0.673458  0.722315      0.529670  0.001\n",
       "28  0.592359  0.686123  0.737249      0.527473  0.001\n",
       "29  0.584804  0.685022  0.729652      0.562637  0.001"
      ]
     },
     "execution_count": 13,
     "metadata": {},
     "output_type": "execute_result"
    }
   ],
   "source": [
    "df_history = pd.DataFrame(history.history) \n",
    "df_history"
   ]
  },
  {
   "cell_type": "code",
   "execution_count": 14,
   "id": "efc56edb",
   "metadata": {},
   "outputs": [
    {
     "data": {
      "image/png": "[encoded data removed]",
      "text/plain": [
       "<Figure size 432x288 with 1 Axes>"
      ]
     },
     "metadata": {
      "needs_background": "light"
     },
     "output_type": "display_data"
    }
   ],
   "source": [
    "try:\n",
    "    plt.plot(history.history['accuracy'])\n",
    "    plt.plot(history.history['val_accuracy'])\n",
    "except KeyError:\n",
    "    plt.plot(history.history['acc'])\n",
    "    plt.plot(history.history['val_acc'])\n",
    "plt.title('Accuracy vs. epochs')\n",
    "plt.ylabel('Accuracy')\n",
    "plt.xlabel('Epoch')\n",
    "plt.legend(['Training', 'Validation'], loc='lower right')\n",
    "plt.show() "
   ]
  },
  {
   "cell_type": "code",
   "execution_count": 15,
   "id": "633ae086",
   "metadata": {},
   "outputs": [
    {
     "data": {
      "image/png": "[encoded data removed]",
      "text/plain": [
       "<Figure size 432x288 with 1 Axes>"
      ]
     },
     "metadata": {
      "needs_background": "light"
     },
     "output_type": "display_data"
    }
   ],
   "source": [
    "#Run this cell to plot the epoch vs loss graph\n",
    "\n",
    "plt.plot(history.history['loss'])\n",
    "plt.plot(history.history['val_loss'])\n",
    "plt.title('Loss vs. epochs')\n",
    "plt.ylabel('Loss')\n",
    "plt.xlabel('Epoch')\n",
    "plt.legend(['Training', 'Validation'], loc='upper right')\n",
    "plt.show() "
   ]
  },
  {
   "cell_type": "code",
   "execution_count": 16,
   "id": "044133eb",
   "metadata": {},
   "outputs": [
    {
     "name": "stdout",
     "output_type": "stream",
     "text": [
      "Test loss: 0.677\n",
      "Test accuracy: 60.83%\n"
     ]
    }
   ],
   "source": [
    "test_loss, test_acc = model.evaluate(test_data, test_label, verbose=0)\n",
    "print(\"Test loss: {:.3f}\\nTest accuracy: {:.2f}%\".format(test_loss, 100 * test_acc))"
   ]
  }
 ],
 "metadata": {
  "kernelspec": {
   "display_name": "Python 3 (ipykernel)",
   "language": "python",
   "name": "python3"
  },
  "language_info": {
   "codemirror_mode": {
    "name": "ipython",
    "version": 3
   },
   "file_extension": ".py",
   "mimetype": "text/x-python",
   "name": "python",
   "nbconvert_exporter": "python",
   "pygments_lexer": "ipython3",
   "version": "3.9.7"
  }
 },
 "nbformat": 4,
 "nbformat_minor": 5
}
