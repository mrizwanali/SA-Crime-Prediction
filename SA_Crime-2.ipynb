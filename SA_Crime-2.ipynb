{
 "cells": [
  {
   "cell_type": "code",
   "execution_count": null,
   "id": "8f676940",
   "metadata": {},
   "outputs": [],
   "source": [
    "del model\n"
   ]
  },
  {
   "cell_type": "code",
   "execution_count": 1,
   "id": "928f901d",
   "metadata": {},
   "outputs": [],
   "source": [
    "import numpy as np\n",
    "import pandas as pd\n",
    "import tensorflow as tf\n",
    "import matplotlib.pyplot as plt\n",
    "from matplotlib import image as im\n",
    "#from matplotlib.image import imread\n",
    "from os import listdir\n",
    "from tensorflow.keras.preprocessing.image import load_img\n",
    "from tensorflow.keras.preprocessing.image import img_to_array\n",
    "from tensorflow.keras import layers, models, regularizers\n",
    "from keras.layers import BatchNormalization\n",
    "from tensorflow.keras.callbacks import ReduceLROnPlateau"
   ]
  },
  {
   "cell_type": "code",
   "execution_count": 2,
   "id": "6a05a9a3",
   "metadata": {},
   "outputs": [],
   "source": [
    "def label_img(pic):\n",
    "    if pic.startswith(\"non\"): return [0, 1]\n",
    "    else : return [1, 0]"
   ]
  },
  {
   "cell_type": "code",
   "execution_count": 3,
   "id": "3e9b3c14",
   "metadata": {},
   "outputs": [
    {
     "name": "stderr",
     "output_type": "stream",
     "text": [
      "C:\\ProgramData\\Anaconda3\\lib\\site-packages\\numpy\\core\\_asarray.py:171: VisibleDeprecationWarning: Creating an ndarray from ragged nested sequences (which is a list-or-tuple of lists-or-tuples-or ndarrays with different lengths or shapes) is deprecated. If you meant to do this, you must specify 'dtype=object' when creating the ndarray.\n",
      "  return array(a, dtype, copy=False, order=order, subok=True)\n"
     ]
    }
   ],
   "source": [
    "data_folder = r\"D:\\AI_ML_DL\\Omdena_Projects\\SA\\Mahrukh\\CompleteData\" + \"/\"\n",
    "photos, labels = list(), list()\n",
    "\n",
    "folder = listdir(data_folder)\n",
    "\n",
    "for eachpic in folder: \n",
    "    label = label_img(eachpic)\n",
    "    file = data_folder + eachpic\n",
    "    image = load_img(file)\n",
    "    image = img_to_array(image) / 255\n",
    "    photos.append([image, label])\n",
    "    \n",
    "\n",
    "from random import shuffle\n",
    "\n",
    "# shuffling of the training data to preserve the random state of our data\n",
    "shuffle(photos)\n",
    "\n",
    "# saving our trained data for further uses if required\n",
    "np.save('photos.npy', photos)"
   ]
  },
  {
   "cell_type": "code",
   "execution_count": 4,
   "id": "6e5e99ba",
   "metadata": {},
   "outputs": [
    {
     "data": {
      "text/plain": [
       "(128, 128, 3)"
      ]
     },
     "execution_count": 4,
     "metadata": {},
     "output_type": "execute_result"
    }
   ],
   "source": [
    "image.shape"
   ]
  },
  {
   "cell_type": "code",
   "execution_count": 5,
   "id": "e608f775",
   "metadata": {},
   "outputs": [
    {
     "name": "stdout",
     "output_type": "stream",
     "text": [
      "2271\n",
      "600\n"
     ]
    }
   ],
   "source": [
    "train = photos[:2271]\n",
    "test = photos[2271:]\n",
    "print(len(train))\n",
    "print(len(test))"
   ]
  },
  {
   "cell_type": "code",
   "execution_count": 6,
   "id": "a339ad05",
   "metadata": {},
   "outputs": [
    {
     "name": "stdout",
     "output_type": "stream",
     "text": [
      "(2271, 128, 128, 3) \n",
      " (2271, 2) \n",
      " (600, 128, 128, 3) \n",
      " (600, 2)\n"
     ]
    }
   ],
   "source": [
    "train_data = np.array([i[0] for i in train])\n",
    "#x_train = np.array([i[0] for i in train]).reshape(-1, 64, 64, 1)\n",
    "train_label = np.array([i[1] for i in train])\n",
    "#x_test = np.array([i[0] for i in test]).reshape(-1, 64, 64, 1)\n",
    "test_data = np.array([i[0] for i in test])\n",
    "test_label = np.array([i[1] for i in test])\n",
    "print(train_data.shape,  \"\\n\",train_label.shape, \"\\n\",test_data.shape, \"\\n\",test_label.shape)"
   ]
  },
  {
   "cell_type": "code",
   "execution_count": 7,
   "id": "7a6cfaee",
   "metadata": {},
   "outputs": [],
   "source": [
    "from tensorflow.keras.models import Sequential\n",
    "from tensorflow.keras.layers import Dense, Activation, Flatten, Conv2D, MaxPooling2D, Dropout\n",
    "from sklearn.model_selection import train_test_split \n",
    "\n",
    "train_x, val_x, train_y, val_y = train_test_split(train_data, train_label, test_size = 0.2)\n",
    "batch_size = 16\n",
    "num_classes = 2\n",
    "epochs = 60"
   ]
  },
  {
   "cell_type": "code",
   "execution_count": null,
   "id": "1073e9a8",
   "metadata": {},
   "outputs": [],
   "source": [
    "del model"
   ]
  },
  {
   "cell_type": "code",
   "execution_count": 8,
   "id": "de5c6b07",
   "metadata": {},
   "outputs": [
    {
     "name": "stdout",
     "output_type": "stream",
     "text": [
      "Model: \"sequential\"\n",
      "_________________________________________________________________\n",
      " Layer (type)                Output Shape              Param #   \n",
      "=================================================================\n",
      " conv2d (Conv2D)             (None, 128, 128, 128)     3584      \n",
      "                                                                 \n",
      " batch_normalization (BatchN  (None, 128, 128, 128)    512       \n",
      " ormalization)                                                   \n",
      "                                                                 \n",
      " max_pooling2d (MaxPooling2D  (None, 64, 64, 128)      0         \n",
      " )                                                               \n",
      "                                                                 \n",
      " conv2d_1 (Conv2D)           (None, 62, 62, 64)        73792     \n",
      "                                                                 \n",
      " max_pooling2d_1 (MaxPooling  (None, 31, 31, 64)       0         \n",
      " 2D)                                                             \n",
      "                                                                 \n",
      " dropout (Dropout)           (None, 31, 31, 64)        0         \n",
      "                                                                 \n",
      " conv2d_2 (Conv2D)           (None, 29, 29, 32)        18464     \n",
      "                                                                 \n",
      " batch_normalization_1 (Batc  (None, 29, 29, 32)       128       \n",
      " hNormalization)                                                 \n",
      "                                                                 \n",
      " max_pooling2d_2 (MaxPooling  (None, 14, 14, 32)       0         \n",
      " 2D)                                                             \n",
      "                                                                 \n",
      " dropout_1 (Dropout)         (None, 14, 14, 32)        0         \n",
      "                                                                 \n",
      " conv2d_3 (Conv2D)           (None, 12, 12, 16)        4624      \n",
      "                                                                 \n",
      " batch_normalization_2 (Batc  (None, 12, 12, 16)       64        \n",
      " hNormalization)                                                 \n",
      "                                                                 \n",
      " max_pooling2d_3 (MaxPooling  (None, 6, 6, 16)         0         \n",
      " 2D)                                                             \n",
      "                                                                 \n",
      " dropout_2 (Dropout)         (None, 6, 6, 16)          0         \n",
      "                                                                 \n",
      " conv2d_4 (Conv2D)           (None, 4, 4, 8)           1160      \n",
      "                                                                 \n",
      " batch_normalization_3 (Batc  (None, 4, 4, 8)          32        \n",
      " hNormalization)                                                 \n",
      "                                                                 \n",
      " flatten (Flatten)           (None, 128)               0         \n",
      "                                                                 \n",
      " dense (Dense)               (None, 500)               64500     \n",
      "                                                                 \n",
      " dropout_3 (Dropout)         (None, 500)               0         \n",
      "                                                                 \n",
      " dense_1 (Dense)             (None, 2)                 1002      \n",
      "                                                                 \n",
      "=================================================================\n",
      "Total params: 167,862\n",
      "Trainable params: 167,494\n",
      "Non-trainable params: 368\n",
      "_________________________________________________________________\n"
     ]
    }
   ],
   "source": [
    "model = Sequential()\n",
    "model.add(Conv2D(128, (3, 3), activation='relu', padding='same', kernel_regularizer=regularizers.l2(0.01), input_shape=train_data.shape[1:]))\n",
    "model.add(BatchNormalization())\n",
    "model.add(MaxPooling2D(pool_size=(2, 2)))\n",
    "model.add(Conv2D(64, (3, 3), activation='relu', kernel_regularizer=regularizers.l2(0.01)))\n",
    "model.add(MaxPooling2D(pool_size=(2, 2)))\n",
    "model.add(Dropout(0.3))\n",
    "model.add(Conv2D(32, (3, 3), activation='relu', kernel_regularizer=regularizers.l2(0.01),))\n",
    "model.add(BatchNormalization())\n",
    "model.add(MaxPooling2D(pool_size=(2, 2)))\n",
    "model.add(Dropout(0.4))\n",
    "model.add(Conv2D(16, (3, 3), activation='relu', kernel_regularizer=regularizers.l2(0.01),))\n",
    "model.add(BatchNormalization())\n",
    "model.add(MaxPooling2D(pool_size=(2, 2)))\n",
    "model.add(Dropout(0.25))\n",
    "model.add(Conv2D(8, (3, 3), activation='relu', kernel_regularizer=regularizers.l2(0.01),))\n",
    "model.add(BatchNormalization())\n",
    "model.add(Flatten())\n",
    "model.add(Dense(500, kernel_regularizer = regularizers.l2(0.01),activation=\"relu\"))\n",
    "model.add(Dropout(0.25))\n",
    "model.add(Dense(num_classes, activation='sigmoid'))\n",
    "model.summary()"
   ]
  },
  {
   "cell_type": "code",
   "execution_count": null,
   "id": "0797f0fc",
   "metadata": {},
   "outputs": [],
   "source": [
    "#reduce_lr = ReduceLROnPlateau(monitor='val_loss', factor=0.2, mode=\"auto\",\n",
    "     #                         patience=5, min_lr=0.001)"
   ]
  },
  {
   "cell_type": "code",
   "execution_count": 9,
   "id": "5cd915ec",
   "metadata": {},
   "outputs": [],
   "source": [
    "# Training the Model\n",
    "model.compile(loss = 'binary_crossentropy', optimizer = \"adam\", metrics = [\"accuracy\"])"
   ]
  },
  {
   "cell_type": "code",
   "execution_count": 10,
   "id": "ea9a2e78",
   "metadata": {},
   "outputs": [
    {
     "name": "stdout",
     "output_type": "stream",
     "text": [
      "Epoch 1/60\n",
      "114/114 [==============================] - 104s 892ms/step - loss: 3.1197 - accuracy: 0.5286 - val_loss: 2.2676 - val_accuracy: 0.5604\n",
      "Epoch 2/60\n",
      "114/114 [==============================] - 110s 960ms/step - loss: 1.8152 - accuracy: 0.5611 - val_loss: 1.5681 - val_accuracy: 0.5604\n",
      "Epoch 3/60\n",
      "114/114 [==============================] - 103s 907ms/step - loss: 1.3264 - accuracy: 0.5694 - val_loss: 1.3678 - val_accuracy: 0.5604\n",
      "Epoch 4/60\n",
      "114/114 [==============================] - 106s 928ms/step - loss: 1.0714 - accuracy: 0.5738 - val_loss: 1.1428 - val_accuracy: 0.5604\n",
      "Epoch 5/60\n",
      "114/114 [==============================] - 97s 853ms/step - loss: 0.9356 - accuracy: 0.5754 - val_loss: 1.1130 - val_accuracy: 0.5604\n",
      "Epoch 6/60\n",
      "114/114 [==============================] - 89s 784ms/step - loss: 0.8525 - accuracy: 0.6013 - val_loss: 0.8416 - val_accuracy: 0.5604\n",
      "Epoch 7/60\n",
      "114/114 [==============================] - 88s 777ms/step - loss: 0.8137 - accuracy: 0.5798 - val_loss: 0.8675 - val_accuracy: 0.5604\n",
      "Epoch 8/60\n",
      "114/114 [==============================] - 87s 765ms/step - loss: 0.7816 - accuracy: 0.5787 - val_loss: 0.7820 - val_accuracy: 0.5604\n",
      "Epoch 9/60\n",
      "114/114 [==============================] - 84s 737ms/step - loss: 0.7543 - accuracy: 0.5815 - val_loss: 0.7795 - val_accuracy: 0.5626\n",
      "Epoch 10/60\n",
      "114/114 [==============================] - 85s 745ms/step - loss: 0.7411 - accuracy: 0.5854 - val_loss: 0.7592 - val_accuracy: 0.5538\n",
      "Epoch 11/60\n",
      "114/114 [==============================] - 90s 787ms/step - loss: 0.7331 - accuracy: 0.5716 - val_loss: 0.7286 - val_accuracy: 0.5538\n",
      "Epoch 12/60\n",
      "114/114 [==============================] - 87s 764ms/step - loss: 0.7174 - accuracy: 0.5809 - val_loss: 0.7239 - val_accuracy: 0.5604\n",
      "Epoch 13/60\n",
      "114/114 [==============================] - 85s 746ms/step - loss: 0.7085 - accuracy: 0.5793 - val_loss: 0.7272 - val_accuracy: 0.5604\n",
      "Epoch 14/60\n",
      "114/114 [==============================] - 81s 714ms/step - loss: 0.7021 - accuracy: 0.5749 - val_loss: 0.8983 - val_accuracy: 0.5604\n",
      "Epoch 15/60\n",
      "114/114 [==============================] - 83s 726ms/step - loss: 0.6968 - accuracy: 0.5754 - val_loss: 0.7034 - val_accuracy: 0.5626\n",
      "Epoch 16/60\n",
      "114/114 [==============================] - 85s 743ms/step - loss: 0.6966 - accuracy: 0.5859 - val_loss: 0.7408 - val_accuracy: 0.5604\n",
      "Epoch 17/60\n",
      "114/114 [==============================] - 85s 748ms/step - loss: 0.7067 - accuracy: 0.5837 - val_loss: 0.7069 - val_accuracy: 0.5582\n",
      "Epoch 18/60\n",
      "114/114 [==============================] - 86s 759ms/step - loss: 0.6973 - accuracy: 0.5903 - val_loss: 0.7076 - val_accuracy: 0.5604\n",
      "Epoch 19/60\n",
      "114/114 [==============================] - 88s 769ms/step - loss: 0.6945 - accuracy: 0.5859 - val_loss: 0.7080 - val_accuracy: 0.5736\n",
      "Epoch 20/60\n",
      "114/114 [==============================] - 89s 783ms/step - loss: 0.6962 - accuracy: 0.5898 - val_loss: 0.7380 - val_accuracy: 0.5582\n",
      "Epoch 21/60\n",
      "114/114 [==============================] - 90s 786ms/step - loss: 0.6959 - accuracy: 0.5859 - val_loss: 0.7063 - val_accuracy: 0.5648\n",
      "Epoch 22/60\n",
      "114/114 [==============================] - 103s 900ms/step - loss: 0.6956 - accuracy: 0.5782 - val_loss: 0.7377 - val_accuracy: 0.5604\n",
      "Epoch 23/60\n",
      "114/114 [==============================] - 104s 913ms/step - loss: 0.6879 - accuracy: 0.5749 - val_loss: 0.6960 - val_accuracy: 0.5604\n",
      "Epoch 24/60\n",
      "114/114 [==============================] - 88s 769ms/step - loss: 0.6881 - accuracy: 0.5870 - val_loss: 0.6986 - val_accuracy: 0.5604\n",
      "Epoch 25/60\n",
      "114/114 [==============================] - 92s 806ms/step - loss: 0.6905 - accuracy: 0.5865 - val_loss: 0.7199 - val_accuracy: 0.5582\n",
      "Epoch 26/60\n",
      "114/114 [==============================] - 98s 858ms/step - loss: 0.6988 - accuracy: 0.5804 - val_loss: 0.7043 - val_accuracy: 0.5626\n",
      "Epoch 27/60\n",
      "114/114 [==============================] - 97s 851ms/step - loss: 0.6928 - accuracy: 0.5809 - val_loss: 0.6968 - val_accuracy: 0.5604\n",
      "Epoch 28/60\n",
      "114/114 [==============================] - 108s 945ms/step - loss: 0.6910 - accuracy: 0.5815 - val_loss: 0.7613 - val_accuracy: 0.5604\n",
      "Epoch 29/60\n",
      "114/114 [==============================] - 95s 829ms/step - loss: 0.6905 - accuracy: 0.5771 - val_loss: 0.7114 - val_accuracy: 0.5604\n",
      "Epoch 30/60\n",
      "114/114 [==============================] - 91s 794ms/step - loss: 0.6874 - accuracy: 0.5820 - val_loss: 0.9551 - val_accuracy: 0.5604\n",
      "Epoch 31/60\n",
      "114/114 [==============================] - 91s 798ms/step - loss: 0.6882 - accuracy: 0.5809 - val_loss: 0.7012 - val_accuracy: 0.5604\n",
      "Epoch 32/60\n",
      "114/114 [==============================] - 88s 773ms/step - loss: 0.6840 - accuracy: 0.5798 - val_loss: 0.6965 - val_accuracy: 0.5604\n",
      "Epoch 33/60\n",
      "114/114 [==============================] - 89s 782ms/step - loss: 0.6829 - accuracy: 0.5820 - val_loss: 0.6894 - val_accuracy: 0.5604\n",
      "Epoch 34/60\n",
      "114/114 [==============================] - 87s 765ms/step - loss: 0.6834 - accuracy: 0.5809 - val_loss: 0.7026 - val_accuracy: 0.5604\n",
      "Epoch 35/60\n",
      "114/114 [==============================] - 84s 737ms/step - loss: 0.6816 - accuracy: 0.5793 - val_loss: 0.6868 - val_accuracy: 0.5604\n",
      "Epoch 36/60\n",
      "114/114 [==============================] - 86s 756ms/step - loss: 0.6847 - accuracy: 0.5876 - val_loss: 0.7184 - val_accuracy: 0.5604\n",
      "Epoch 37/60\n",
      "114/114 [==============================] - 81s 711ms/step - loss: 0.6841 - accuracy: 0.5820 - val_loss: 0.7409 - val_accuracy: 0.5604\n",
      "Epoch 38/60\n",
      "114/114 [==============================] - 90s 788ms/step - loss: 0.6862 - accuracy: 0.5798 - val_loss: 0.6966 - val_accuracy: 0.5582\n",
      "Epoch 39/60\n",
      "114/114 [==============================] - 96s 841ms/step - loss: 0.6823 - accuracy: 0.5859 - val_loss: 0.7046 - val_accuracy: 0.5846\n",
      "Epoch 40/60\n",
      "114/114 [==============================] - 92s 804ms/step - loss: 0.6909 - accuracy: 0.5914 - val_loss: 0.7033 - val_accuracy: 0.5560\n",
      "Epoch 41/60\n",
      "114/114 [==============================] - 83s 724ms/step - loss: 0.6809 - accuracy: 0.5892 - val_loss: 0.7019 - val_accuracy: 0.5626\n",
      "Epoch 42/60\n",
      "114/114 [==============================] - 87s 766ms/step - loss: 0.6844 - accuracy: 0.5997 - val_loss: 0.6998 - val_accuracy: 0.5736\n",
      "Epoch 43/60\n",
      "114/114 [==============================] - 93s 813ms/step - loss: 0.6790 - accuracy: 0.6013 - val_loss: 0.7103 - val_accuracy: 0.5165\n",
      "Epoch 44/60\n",
      "114/114 [==============================] - 84s 739ms/step - loss: 0.6845 - accuracy: 0.5931 - val_loss: 0.7034 - val_accuracy: 0.5780\n",
      "Epoch 45/60\n",
      "114/114 [==============================] - 84s 734ms/step - loss: 0.6768 - accuracy: 0.5997 - val_loss: 0.7173 - val_accuracy: 0.5495\n",
      "Epoch 46/60\n",
      "114/114 [==============================] - 89s 786ms/step - loss: 0.6839 - accuracy: 0.5964 - val_loss: 0.7131 - val_accuracy: 0.5956\n",
      "Epoch 47/60\n",
      "114/114 [==============================] - 96s 847ms/step - loss: 0.6820 - accuracy: 0.6090 - val_loss: 0.7047 - val_accuracy: 0.5670\n",
      "Epoch 48/60\n",
      "114/114 [==============================] - 90s 792ms/step - loss: 0.6763 - accuracy: 0.6090 - val_loss: 0.7263 - val_accuracy: 0.5736\n",
      "Epoch 49/60\n",
      "114/114 [==============================] - 90s 787ms/step - loss: 0.6798 - accuracy: 0.6129 - val_loss: 0.7576 - val_accuracy: 0.5736\n",
      "Epoch 50/60\n",
      "114/114 [==============================] - 88s 770ms/step - loss: 0.6817 - accuracy: 0.6046 - val_loss: 0.7212 - val_accuracy: 0.5516\n",
      "Epoch 51/60\n",
      "114/114 [==============================] - 86s 758ms/step - loss: 0.6823 - accuracy: 0.6096 - val_loss: 0.7589 - val_accuracy: 0.5714\n",
      "Epoch 52/60\n",
      "114/114 [==============================] - 89s 782ms/step - loss: 0.6886 - accuracy: 0.5991 - val_loss: 0.7039 - val_accuracy: 0.5648\n",
      "Epoch 53/60\n",
      "114/114 [==============================] - 90s 788ms/step - loss: 0.6750 - accuracy: 0.6123 - val_loss: 0.7231 - val_accuracy: 0.5648\n",
      "Epoch 54/60\n",
      "114/114 [==============================] - 90s 790ms/step - loss: 0.6749 - accuracy: 0.6123 - val_loss: 0.7145 - val_accuracy: 0.5736\n",
      "Epoch 55/60\n",
      "114/114 [==============================] - 98s 863ms/step - loss: 0.6814 - accuracy: 0.6096 - val_loss: 0.7289 - val_accuracy: 0.5758\n",
      "Epoch 56/60\n",
      "114/114 [==============================] - 86s 756ms/step - loss: 0.6768 - accuracy: 0.6129 - val_loss: 0.7208 - val_accuracy: 0.5824\n",
      "Epoch 57/60\n",
      "114/114 [==============================] - 97s 854ms/step - loss: 0.6773 - accuracy: 0.6261 - val_loss: 0.6961 - val_accuracy: 0.5648\n",
      "Epoch 58/60\n",
      "114/114 [==============================] - 96s 837ms/step - loss: 0.6784 - accuracy: 0.6129 - val_loss: 0.7111 - val_accuracy: 0.5604\n",
      "Epoch 59/60\n",
      "114/114 [==============================] - 93s 816ms/step - loss: 0.6715 - accuracy: 0.6206 - val_loss: 0.6949 - val_accuracy: 0.5714\n",
      "Epoch 60/60\n",
      "114/114 [==============================] - 89s 784ms/step - loss: 0.6771 - accuracy: 0.6101 - val_loss: 0.6988 - val_accuracy: 0.5912\n"
     ]
    }
   ],
   "source": [
    "#history = model.fit(train_x, train_y, batch_size = batch_size, epochs = epochs, verbose = 1, callbacks=[reduce_lr],\n",
    "      #              validation_data = (val_x, val_y))\n",
    "history = model.fit(train_x, train_y, batch_size = batch_size, epochs = epochs, verbose = 1, \n",
    "                    validation_data = (val_x, val_y))"
   ]
  },
  {
   "cell_type": "code",
   "execution_count": 11,
   "id": "e501d3f3",
   "metadata": {},
   "outputs": [
    {
     "data": {
      "text/html": [
       "<div><div id=9a2ca891-0b94-4a95-965b-c365be0c8a75 style=\"display:none; background-color:#9D6CFF; color:white; width:200px; height:30px; padding-left:5px; border-radius:4px; flex-direction:row; justify-content:space-around; align-items:center;\" onmouseover=\"this.style.backgroundColor='#BA9BF8'\" onmouseout=\"this.style.backgroundColor='#9D6CFF'\" onclick=\"window.commands?.execute('create-mitosheet-from-dataframe-output');\">See Full Dataframe in Mito</div> <script> if (window.commands?.hasCommand('create-mitosheet-from-dataframe-output')) document.getElementById('9a2ca891-0b94-4a95-965b-c365be0c8a75').style.display = 'flex' </script> <table border=\"1\" class=\"dataframe\">\n",
       "  <thead>\n",
       "    <tr style=\"text-align: right;\">\n",
       "      <th></th>\n",
       "      <th>loss</th>\n",
       "      <th>accuracy</th>\n",
       "      <th>val_loss</th>\n",
       "      <th>val_accuracy</th>\n",
       "    </tr>\n",
       "  </thead>\n",
       "  <tbody>\n",
       "    <tr>\n",
       "      <th>0</th>\n",
       "      <td>3.119671</td>\n",
       "      <td>0.528634</td>\n",
       "      <td>2.267579</td>\n",
       "      <td>0.560440</td>\n",
       "    </tr>\n",
       "    <tr>\n",
       "      <th>1</th>\n",
       "      <td>1.815151</td>\n",
       "      <td>0.561123</td>\n",
       "      <td>1.568147</td>\n",
       "      <td>0.560440</td>\n",
       "    </tr>\n",
       "    <tr>\n",
       "      <th>2</th>\n",
       "      <td>1.326405</td>\n",
       "      <td>0.569383</td>\n",
       "      <td>1.367776</td>\n",
       "      <td>0.560440</td>\n",
       "    </tr>\n",
       "    <tr>\n",
       "      <th>3</th>\n",
       "      <td>1.071445</td>\n",
       "      <td>0.573789</td>\n",
       "      <td>1.142846</td>\n",
       "      <td>0.560440</td>\n",
       "    </tr>\n",
       "    <tr>\n",
       "      <th>4</th>\n",
       "      <td>0.935555</td>\n",
       "      <td>0.575441</td>\n",
       "      <td>1.112992</td>\n",
       "      <td>0.560440</td>\n",
       "    </tr>\n",
       "    <tr>\n",
       "      <th>...</th>\n",
       "      <td>...</td>\n",
       "      <td>...</td>\n",
       "      <td>...</td>\n",
       "      <td>...</td>\n",
       "    </tr>\n",
       "    <tr>\n",
       "      <th>55</th>\n",
       "      <td>0.676795</td>\n",
       "      <td>0.612885</td>\n",
       "      <td>0.720757</td>\n",
       "      <td>0.582418</td>\n",
       "    </tr>\n",
       "    <tr>\n",
       "      <th>56</th>\n",
       "      <td>0.677347</td>\n",
       "      <td>0.626101</td>\n",
       "      <td>0.696086</td>\n",
       "      <td>0.564835</td>\n",
       "    </tr>\n",
       "    <tr>\n",
       "      <th>57</th>\n",
       "      <td>0.678440</td>\n",
       "      <td>0.612885</td>\n",
       "      <td>0.711079</td>\n",
       "      <td>0.560440</td>\n",
       "    </tr>\n",
       "    <tr>\n",
       "      <th>58</th>\n",
       "      <td>0.671471</td>\n",
       "      <td>0.620595</td>\n",
       "      <td>0.694921</td>\n",
       "      <td>0.571429</td>\n",
       "    </tr>\n",
       "    <tr>\n",
       "      <th>59</th>\n",
       "      <td>0.677075</td>\n",
       "      <td>0.610132</td>\n",
       "      <td>0.698797</td>\n",
       "      <td>0.591209</td>\n",
       "    </tr>\n",
       "  </tbody>\n",
       "</table></div>"
      ],
      "text/plain": [
       "        loss  accuracy  val_loss  val_accuracy\n",
       "0   3.119671  0.528634  2.267579      0.560440\n",
       "1   1.815151  0.561123  1.568147      0.560440\n",
       "2   1.326405  0.569383  1.367776      0.560440\n",
       "3   1.071445  0.573789  1.142846      0.560440\n",
       "4   0.935555  0.575441  1.112992      0.560440\n",
       "5   0.852481  0.601322  0.841571      0.560440\n",
       "6   0.813658  0.579846  0.867523      0.560440\n",
       "7   0.781594  0.578744  0.781957      0.560440\n",
       "8   0.754274  0.581498  0.779532      0.562637\n",
       "9   0.741141  0.585352  0.759151      0.553846\n",
       "10  0.733125  0.571586  0.728648      0.553846\n",
       "11  0.717406  0.580947  0.723860      0.560440\n",
       "12  0.708455  0.579295  0.727188      0.560440\n",
       "13  0.702141  0.574890  0.898329      0.560440\n",
       "14  0.696773  0.575441  0.703429      0.562637\n",
       "15  0.696566  0.585903  0.740802      0.560440\n",
       "16  0.706734  0.583700  0.706851      0.558242\n",
       "17  0.697327  0.590308  0.707650      0.560440\n",
       "18  0.694498  0.585903  0.707983      0.573626\n",
       "19  0.696243  0.589758  0.738024      0.558242\n",
       "20  0.695873  0.585903  0.706279      0.564835\n",
       "21  0.695560  0.578194  0.737736      0.560440\n",
       "22  0.687928  0.574890  0.696001      0.560440\n",
       "23  0.688107  0.587004  0.698604      0.560440\n",
       "24  0.690550  0.586454  0.719906      0.558242\n",
       "25  0.698816  0.580396  0.704276      0.562637\n",
       "26  0.692778  0.580947  0.696791      0.560440\n",
       "27  0.691038  0.581498  0.761263      0.560440\n",
       "28  0.690547  0.577093  0.711411      0.560440\n",
       "29  0.687427  0.582048  0.955140      0.560440\n",
       "30  0.688157  0.580947  0.701190      0.560440\n",
       "31  0.683977  0.579846  0.696470      0.560440\n",
       "32  0.682943  0.582048  0.689360      0.560440\n",
       "33  0.683418  0.580947  0.702592      0.560440\n",
       "34  0.681640  0.579295  0.686803      0.560440\n",
       "35  0.684658  0.587555  0.718412      0.560440\n",
       "36  0.684120  0.582048  0.740903      0.560440\n",
       "37  0.686154  0.579846  0.696638      0.558242\n",
       "38  0.682347  0.585903  0.704577      0.584615\n",
       "39  0.690935  0.591410  0.703316      0.556044\n",
       "40  0.680855  0.589207  0.701913      0.562637\n",
       "41  0.684399  0.599670  0.699763      0.573626\n",
       "42  0.678960  0.601322  0.710280      0.516484\n",
       "43  0.684502  0.593062  0.703433      0.578022\n",
       "44  0.676841  0.599670  0.717342      0.549451\n",
       "45  0.683914  0.596366  0.713102      0.595604\n",
       "46  0.682032  0.609031  0.704709      0.567033\n",
       "47  0.676290  0.609031  0.726254      0.573626\n",
       "48  0.679772  0.612885  0.757600      0.573626\n",
       "49  0.681658  0.604626  0.721171      0.551648\n",
       "50  0.682275  0.609581  0.758878      0.571429\n",
       "51  0.688573  0.599119  0.703929      0.564835\n",
       "52  0.675034  0.612335  0.723092      0.564835\n",
       "53  0.674853  0.612335  0.714470      0.573626\n",
       "54  0.681398  0.609581  0.728950      0.575824\n",
       "55  0.676795  0.612885  0.720757      0.582418\n",
       "56  0.677347  0.626101  0.696086      0.564835\n",
       "57  0.678440  0.612885  0.711079      0.560440\n",
       "58  0.671471  0.620595  0.694921      0.571429\n",
       "59  0.677075  0.610132  0.698797      0.591209"
      ]
     },
     "execution_count": 11,
     "metadata": {},
     "output_type": "execute_result"
    }
   ],
   "source": [
    "df_history = pd.DataFrame(history.history) \n",
    "df_history"
   ]
  },
  {
   "cell_type": "code",
   "execution_count": 13,
   "id": "efc56edb",
   "metadata": {},
   "outputs": [
    {
     "data": {
      "image/png": "[encoded data removed]",
      "text/plain": [
       "<Figure size 432x288 with 1 Axes>"
      ]
     },
     "metadata": {
      "needs_background": "light"
     },
     "output_type": "display_data"
    }
   ],
   "source": [
    "try:\n",
    "    plt.plot(history.history['accuracy'])\n",
    "    plt.plot(history.history['val_accuracy'])\n",
    "except KeyError:\n",
    "    plt.plot(history.history['acc'])\n",
    "    plt.plot(history.history['val_acc'])\n",
    "plt.title('Accuracy vs. epochs')\n",
    "plt.ylabel('Accuracy')\n",
    "plt.xlabel('Epoch')\n",
    "plt.legend(['Training', 'Validation'], loc='lower right')\n",
    "plt.show() "
   ]
  },
  {
   "cell_type": "code",
   "execution_count": 1,
   "id": "633ae086",
   "metadata": {},
   "outputs": [
    {
     "ename": "NameError",
     "evalue": "name 'plt' is not defined",
     "output_type": "error",
     "traceback": [
      "\u001b[1;31m---------------------------------------------------------------------------\u001b[0m",
      "\u001b[1;31mNameError\u001b[0m                                 Traceback (most recent call last)",
      "\u001b[1;32m~\\AppData\\Local\\Temp/ipykernel_32544/2930947887.py\u001b[0m in \u001b[0;36m<module>\u001b[1;34m\u001b[0m\n\u001b[0;32m      1\u001b[0m \u001b[1;31m#Run this cell to plot the epoch vs loss graph\u001b[0m\u001b[1;33m\u001b[0m\u001b[1;33m\u001b[0m\u001b[0m\n\u001b[0;32m      2\u001b[0m \u001b[1;33m\u001b[0m\u001b[0m\n\u001b[1;32m----> 3\u001b[1;33m \u001b[0mplt\u001b[0m\u001b[1;33m.\u001b[0m\u001b[0mplot\u001b[0m\u001b[1;33m(\u001b[0m\u001b[0mhistory\u001b[0m\u001b[1;33m.\u001b[0m\u001b[0mhistory\u001b[0m\u001b[1;33m[\u001b[0m\u001b[1;34m'loss'\u001b[0m\u001b[1;33m]\u001b[0m\u001b[1;33m)\u001b[0m\u001b[1;33m\u001b[0m\u001b[1;33m\u001b[0m\u001b[0m\n\u001b[0m\u001b[0;32m      4\u001b[0m \u001b[0mplt\u001b[0m\u001b[1;33m.\u001b[0m\u001b[0mplot\u001b[0m\u001b[1;33m(\u001b[0m\u001b[0mhistory\u001b[0m\u001b[1;33m.\u001b[0m\u001b[0mhistory\u001b[0m\u001b[1;33m[\u001b[0m\u001b[1;34m'val_loss'\u001b[0m\u001b[1;33m]\u001b[0m\u001b[1;33m)\u001b[0m\u001b[1;33m\u001b[0m\u001b[1;33m\u001b[0m\u001b[0m\n\u001b[0;32m      5\u001b[0m \u001b[0mplt\u001b[0m\u001b[1;33m.\u001b[0m\u001b[0mtitle\u001b[0m\u001b[1;33m(\u001b[0m\u001b[1;34m'Loss vs. epochs'\u001b[0m\u001b[1;33m)\u001b[0m\u001b[1;33m\u001b[0m\u001b[1;33m\u001b[0m\u001b[0m\n",
      "\u001b[1;31mNameError\u001b[0m: name 'plt' is not defined"
     ]
    }
   ],
   "source": [
    "#Run this cell to plot the epoch vs loss graph\n",
    "\n",
    "plt.plot(history.history['loss'])\n",
    "plt.plot(history.history['val_loss'])\n",
    "plt.title('Loss vs. epochs')\n",
    "plt.ylabel('Loss')\n",
    "plt.xlabel('Epoch')\n",
    "plt.legend(['Training', 'Validation'], loc='upper right')\n",
    "plt.show() "
   ]
  },
  {
   "cell_type": "code",
   "execution_count": 15,
   "id": "044133eb",
   "metadata": {},
   "outputs": [
    {
     "name": "stdout",
     "output_type": "stream",
     "text": [
      "Test loss: 0.709\n",
      "Test accuracy: 57.00%\n"
     ]
    }
   ],
   "source": [
    "test_loss, test_acc = model.evaluate(test_data, test_label, verbose=0)\n",
    "print(\"Test loss: {:.3f}\\nTest accuracy: {:.2f}%\".format(test_loss, 100 * test_acc))"
   ]
  },
  {
   "cell_type": "code",
   "execution_count": 16,
   "id": "7be8d08d",
   "metadata": {},
   "outputs": [],
   "source": [
    "model.save(\"violent_non_violent.h5\")"
   ]
  }
 ],
 "metadata": {
  "kernelspec": {
   "display_name": "Python 3 (ipykernel)",
   "language": "python",
   "name": "python3"
  },
  "language_info": {
   "codemirror_mode": {
    "name": "ipython",
    "version": 3
   },
   "file_extension": ".py",
   "mimetype": "text/x-python",
   "name": "python",
   "nbconvert_exporter": "python",
   "pygments_lexer": "ipython3",
   "version": "3.9.7"
  }
 },
 "nbformat": 4,
 "nbformat_minor": 5
}
